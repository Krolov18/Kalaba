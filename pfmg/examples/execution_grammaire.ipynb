{
 "cells": [
  {
   "cell_type": "markdown",
   "source": [
    "# Exemple d'une grammaire prenant en compte les ambiguité morphologique ET syntaxique\n",
    "Avec un vocabulaire comme le/la/les/chat/chats/cuisine/cuisines/dort/dorment/dans, on peut vite exploser la combinatoire."
   ],
   "metadata": {
    "collapsed": false,
    "pycharm": {
     "name": "#%% md\n"
    }
   }
  },
  {
   "metadata": {},
   "cell_type": "code",
   "source": [
    "from pfmg.parsing.main.actions import parsing_action\n",
    "\n",
    "parsing_action(\n",
    "    {\n",
    "        \"data\": \"des garçons\",\n",
    "        \"path\": \"./data\",\n",
    "        \"keep\": \"all\",\n",
    "    }\n",
    ")"
   ],
   "outputs": [],
   "execution_count": null
  }
 ],
 "metadata": {
  "kernelspec": {
   "display_name": "Python 3 (ipykernel)",
   "language": "python",
   "name": "python3"
  },
  "language_info": {
   "codemirror_mode": {
    "name": "ipython",
    "version": 3
   },
   "file_extension": ".py",
   "mimetype": "text/x-python",
   "name": "python",
   "nbconvert_exporter": "python",
   "pygments_lexer": "ipython3",
   "version": "3.8.3"
  }
 },
 "nbformat": 4,
 "nbformat_minor": 1
}
